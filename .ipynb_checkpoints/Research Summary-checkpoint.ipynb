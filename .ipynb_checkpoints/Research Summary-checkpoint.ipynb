{
 "cells": [
  {
   "cell_type": "markdown",
   "metadata": {},
   "source": [
    "# Observations of the heat budget of coastal Arctic sea ice under the influence of a river outflow\n",
    "\n",
    "Master analysis notebook for this Ikaagvik Sikukuun paper."
   ]
  },
  {
   "cell_type": "code",
   "execution_count": 1,
   "metadata": {},
   "outputs": [],
   "source": [
    "import numpy as np\n",
    "import pandas as pd\n",
    "import xarray as xr\n",
    "import dask.array as da\n",
    "from dask.diagnostics import ProgressBar\n",
    "import cartopy.crs as ccrs\n",
    "import cartopy\n",
    "from matplotlib import pyplot as plt\n",
    "%matplotlib inline"
   ]
  },
  {
   "cell_type": "markdown",
   "metadata": {},
   "source": [
    "## Figure 1: Layered Sea Ice Cover Map"
   ]
  },
  {
   "cell_type": "code",
   "execution_count": null,
   "metadata": {},
   "outputs": [],
   "source": [
    "si = xr.open_mfdataset()"
   ]
  },
  {
   "cell_type": "code",
   "execution_count": 6,
   "metadata": {},
   "outputs": [
    {
     "data": {
      "text/plain": [
       "<matplotlib.collections.QuadMesh at 0x143c59daac8>"
      ]
     },
     "execution_count": 6,
     "metadata": {},
     "output_type": "execute_result"
    },
    {
     "data": {
      "image/png": "[encoded data removed]",
      "text/plain": [
       "<Figure size 432x288 with 2 Axes>"
      ]
     },
     "metadata": {},
     "output_type": "display_data"
    }
   ],
   "source": [
    "si = xr.open_dataset('../../Data/Satellite/Sea Ice/ASI_SSMI/si_2000_2017.nc')\n",
    "si.sea_ice_area_fraction.isel(time=1).plot()"
   ]
  },
  {
   "cell_type": "code",
   "execution_count": 3,
   "metadata": {},
   "outputs": [
    {
     "data": {
      "text/plain": [
       "<xarray.Dataset>\n",
       "Dimensions:                (time: 365, x: 608, y: 896)\n",
       "Coordinates:\n",
       "    latitude               (y, x) float32 ...\n",
       "    longitude              (y, x) float32 ...\n",
       "  * time                   (time) datetime64[ns] 2019-01-01T12:00:00 ... 2019-12-31T12:00:00\n",
       "Dimensions without coordinates: x, y\n",
       "Data variables:\n",
       "    sea_ice_area_fraction  (time, y, x) float32 ...\n",
       "    land                   (time, y, x) int16 ...\n",
       "Attributes:\n",
       "    Conventions:               CF-1.5\n",
       "    long_name:                 Sea-ice concentration as observed by SSM/IS\n",
       "    short_name:                PSI-F18-Concentration\n",
       "    producer_agency:           IFREMER\n",
       "    producer_institution:      CERSAT\n",
       "    modification_institution:  CliSAP\n",
       "    comment:                   Data has been modified by using a 5-day median...\n",
       "    time_resolution:           daily\n",
       "    grid:                      NSIDC\n",
       "    pole:                      north\n",
       "    spatial_resolution:        12.5 km\n",
       "    platform_id:               F18\n",
       "    instrument:                SSM/IS\n",
       "    Creation_date:             Fri Jan 10 09:53:29 2020\n",
       "    netCDF_created_by:         Stefan Kern\n",
       "    Created_with:              IDL-routine asi_interpol.pro"
      ]
     },
     "execution_count": 3,
     "metadata": {},
     "output_type": "execute_result"
    }
   ],
   "source": [
    "si19 = xr.open_dataset('../../Data/Satellite/Sea Ice/ASI_SSMI/ssmi_2019_toend.nc')\n",
    "si19"
   ]
  },
  {
   "cell_type": "markdown",
   "metadata": {},
   "source": [
    "*Figure 1: Sea ice cover (>70%) in the Chukchi and Bering Seas for every April going back to April of 2000. Each year is plotted as a transparent white layer, building up a climatology over which 2019 April sea ice cover is shown in red.*"
   ]
  },
  {
   "cell_type": "markdown",
   "metadata": {},
   "source": [
    "## Figure 2: Sea Ice and SST Monthly Anomalies"
   ]
  },
  {
   "cell_type": "code",
   "execution_count": null,
   "metadata": {},
   "outputs": [],
   "source": []
  },
  {
   "cell_type": "markdown",
   "metadata": {},
   "source": [
    "*Figure 2: Recent years have seen growing negative anomalies in sea ice cover in the Chukchi and Bering seas, particularly in the marginal months of December, April, and May (top), accompanied by positive summer SST anomalies (bottom). Data from Hamburg ICDC SSMI product (Sea Ice) and Nasa OISST Reynolds interpolated product (SST), spanning the geographical region depicted in Figure 1.*"
   ]
  },
  {
   "cell_type": "markdown",
   "metadata": {},
   "source": [
    "## Figure 3: Layered Landfast Ice Extent Map\n",
    "(made by hand-tracing MODIS images in QGIS)\n",
    "\n",
    "![](./Figures/Landfast Ice minima v2.png)\n",
    "\n",
    "*Figure 3: Landfast Ice Climatology back to 2000 plotted following the same scheme as Figure 1. The Kobuk and Noatak rivers enter the sound via the bathymetric channel shown in grey. Also shown is the Alaska Coastal Current, which brings warm water northward through the Bering Strait during the summer months.*"
   ]
  },
  {
   "cell_type": "markdown",
   "metadata": {},
   "source": [
    "## Figure 4: Measurement Stations in Kotzebue Sound\n",
    "(made in QGIS and Powerpoint)\n",
    "\n",
    "![](./Figures/MeasurementLocations v4.png)\n",
    "\n",
    "*Figure 4: Locations of the Sea Ice Station (SIS) and Ocean Bottom Tripod (OBT) measurement stations in Kotzebue Sound, with their dates of deployment and recovery. *"
   ]
  },
  {
   "cell_type": "markdown",
   "metadata": {},
   "source": [
    "## Figure 5: SIS Schematic\n",
    "(made in Powerpoint)\n",
    "\n",
    "![](./Figures/SIS schematic v4.png)\n",
    "\n",
    "*Figure 5: The Sea Ice Station featured measurements of net radiative fluxes, air temperature, humidity, pressure, wind speed, and solar insolation above the ice. Below the ice, moorings measured water temperature, salinity, and current profiles (see Table 1 for deployment depths). Measurements of snow and ice thickness were made by local observers on a weekly basis using calibrated stakes.*"
   ]
  },
  {
   "cell_type": "markdown",
   "metadata": {},
   "source": [
    "## Figure 6: Overview of SIS Measurements"
   ]
  },
  {
   "cell_type": "code",
   "execution_count": null,
   "metadata": {},
   "outputs": [],
   "source": []
  },
  {
   "cell_type": "markdown",
   "metadata": {},
   "source": [
    "*Figure 6: Summary of all measurements made on the SIS: bi-directional water currents; water temperatures & salinity; wind speed & direction; ice & snow thickness; air temperature, humidity, and pressure; net LW and SW radiation; and down-welling SW radiation. Also shown are down-welling LW and SW radiation measurements from a tower above the Fish & Wildlife Service (FWS) building in the town of Kotzebue. Daily albedo values are shown in the bottom panel, calculated by differencing the CNR2 net radiometer from the down-welling SW sensor on the MaxiMet.*"
   ]
  },
  {
   "cell_type": "markdown",
   "metadata": {},
   "source": [
    "## Figure 7: Bi-directional current correlations"
   ]
  },
  {
   "cell_type": "code",
   "execution_count": null,
   "metadata": {},
   "outputs": [],
   "source": []
  },
  {
   "cell_type": "markdown",
   "metadata": {},
   "source": [
    "*Figure 7: (Left) Directional histogram of currents measured at the Sea Ice Station, showing highly bi-modal behavior. (Right) Lag correlations between 1-dimensional (bi-directional) current parameter and both water temperature & salinity.*"
   ]
  },
  {
   "cell_type": "markdown",
   "metadata": {},
   "source": [
    "## Figure 8: Timeseries of $u_{*0}$ and $\\Delta T$"
   ]
  },
  {
   "cell_type": "code",
   "execution_count": null,
   "metadata": {},
   "outputs": [],
   "source": []
  },
  {
   "cell_type": "markdown",
   "metadata": {},
   "source": [
    "*Figure 8: Timeseries of friction velocity $u_{*0}$ and departure from freezing $ΔT$, the two terms affecting variations in the magnitude of the ocean-ice heat flux.* "
   ]
  },
  {
   "cell_type": "markdown",
   "metadata": {},
   "source": [
    "## Figure 9: $St*$ vs $Re*$ for existing data sets compared to our data set"
   ]
  },
  {
   "cell_type": "code",
   "execution_count": null,
   "metadata": {},
   "outputs": [],
   "source": []
  },
  {
   "cell_type": "markdown",
   "metadata": {},
   "source": [
    "*Figure 9: Stanton number has displayed no dependence on roughness Reynolds number for existing in-situ data sets of under-ice heat flux measurements, however this study suggests that the dependence anticipated from laboratory studies may emerge at sufficiently large roughness Reynolds numbers.*"
   ]
  },
  {
   "cell_type": "markdown",
   "metadata": {},
   "source": [
    "## Figure 10: Flux balances at both interfaces"
   ]
  },
  {
   "cell_type": "code",
   "execution_count": null,
   "metadata": {},
   "outputs": [],
   "source": []
  },
  {
   "cell_type": "markdown",
   "metadata": {},
   "source": [
    "*Figure 10: Flux balances at the top and bottom interfaces of the snow/ice layer. The conductive flux away from the bottom interface balances the total flux away from the top interface, and differences between the water-ice heat flux and the conductive flux should lead to ice growth or melt.*"
   ]
  },
  {
   "cell_type": "markdown",
   "metadata": {},
   "source": [
    "## Figure 11: Relationship Between Salinity & Departure From Freezing Point"
   ]
  },
  {
   "cell_type": "code",
   "execution_count": null,
   "metadata": {},
   "outputs": [],
   "source": []
  },
  {
   "cell_type": "markdown",
   "metadata": {},
   "source": [
    "*Figure 11: Sudden increases in salinity correspond to departures of water temperature from the freezing point, implying an oceanic origin for residual heat in the water under the ice. The slope of the excursions in ΔT-Salinity space is very consistent, suggesting a characteristic relationship between salinity excursions & heat content.*"
   ]
  },
  {
   "cell_type": "markdown",
   "metadata": {},
   "source": [
    "## Figure 12: Temperature and Salinity at OBT - Spring and Fall"
   ]
  },
  {
   "cell_type": "code",
   "execution_count": null,
   "metadata": {},
   "outputs": [],
   "source": []
  },
  {
   "cell_type": "markdown",
   "metadata": {},
   "source": [
    "*Figure 12: At the mouth of Kotzebue Sound, temperature and salinity are positively correlated in the Fall (a), but negatively correlated in the Spring (b) for both years of measurements. *"
   ]
  },
  {
   "cell_type": "markdown",
   "metadata": {},
   "source": [
    "## Figure 13: T-S Diagram of fall vs. spring at OBT"
   ]
  },
  {
   "cell_type": "code",
   "execution_count": null,
   "metadata": {},
   "outputs": [],
   "source": []
  },
  {
   "cell_type": "markdown",
   "metadata": {},
   "source": [
    "*Figure 13: Temperature-Salinity diagram from the 2018/19 year, showing the perpendicularity between salinity-reduction events in fall and spring. The climatological salinity ranges measured in the Bering Strait suggest that pulses of significantly fresher water reflect the influence of Kotzebue Sound river outflow. We posit that the river acts as a heat sink to the sound in the fall/winter, and a heat source in the spring/summer.*"
   ]
  },
  {
   "cell_type": "code",
   "execution_count": null,
   "metadata": {},
   "outputs": [],
   "source": []
  }
 ],
 "metadata": {
  "kernelspec": {
   "display_name": "Python 3",
   "language": "python",
   "name": "python3"
  },
  "language_info": {
   "codemirror_mode": {
    "name": "ipython",
    "version": 3
   },
   "file_extension": ".py",
   "mimetype": "text/x-python",
   "name": "python",
   "nbconvert_exporter": "python",
   "pygments_lexer": "ipython3",
   "version": "3.6.5"
  }
 },
 "nbformat": 4,
 "nbformat_minor": 2
}
